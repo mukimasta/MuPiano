{
 "cells": [
  {
   "cell_type": "code",
   "execution_count": 2,
   "metadata": {},
   "outputs": [],
   "source": [
    "AMPLITUDE = 2048"
   ]
  },
  {
   "cell_type": "code",
   "execution_count": 3,
   "metadata": {},
   "outputs": [
    {
     "name": "stdout",
     "output_type": "stream",
     "text": [
      "sine_wave_1024.mem 文件已生成，采样点数：1024\n"
     ]
    }
   ],
   "source": [
    "import numpy as np\n",
    "\n",
    "\n",
    "\n",
    "def generate_sine_wave_mem(filename, num_samples=1024, amplitude=32767):\n",
    "    # 生成一个周期的正弦波\n",
    "    t = np.linspace(0, 2 * np.pi, num_samples, endpoint=False)\n",
    "    sine_wave = np.sin(t)\n",
    "\n",
    "    # 量化到16位有符号整数范围\n",
    "    sine_wave_int16 = np.int16(sine_wave * amplitude)\n",
    "\n",
    "    # 将数据转换为十六进制字符串，每行一个采样点\n",
    "    hex_data = [f\"{sample & 0xFFFF:04X}\" for sample in sine_wave_int16]\n",
    "\n",
    "    # 保存到文件\n",
    "    with open(filename, \"w\") as f:\n",
    "        for hex_sample in hex_data:\n",
    "            f.write(hex_sample + \"\\n\")\n",
    "\n",
    "    print(f\"{filename} 文件已生成，采样点数：{num_samples}\")\n",
    "\n",
    "# 生成 1024 点 ROM\n",
    "generate_sine_wave_mem(\"sine_wave_1024.mem\", num_samples=1024, amplitude=AMPLITUDE)"
   ]
  },
  {
   "cell_type": "code",
   "execution_count": 4,
   "metadata": {},
   "outputs": [
    {
     "name": "stdout",
     "output_type": "stream",
     "text": [
      "triangle_wave_1024.mem 文件已生成，采样点数：1024\n",
      "square_wave_1024.mem 文件已生成，采样点数：1024\n"
     ]
    }
   ],
   "source": [
    "import numpy as np\n",
    "\n",
    "def generate_triangle_wave_mem(filename, num_samples=1024, amplitude=32767):\n",
    "    # 生成一个周期的三角波\n",
    "    t = np.linspace(0, 1, num_samples, endpoint=False)\n",
    "    triangle_wave = 2 * amplitude * (t - np.floor(t + 0.5))\n",
    "\n",
    "    # 量化到16位有符号整数范围\n",
    "    triangle_wave_int16 = np.int16(triangle_wave)\n",
    "\n",
    "    # 将数据转换为十六进制字符串，每行一个采样点\n",
    "    hex_data = [f\"{sample & 0xFFFF:04X}\" for sample in triangle_wave_int16]\n",
    "\n",
    "    # 保存到文件\n",
    "    with open(filename, \"w\") as f:\n",
    "        for hex_sample in hex_data:\n",
    "            f.write(hex_sample + \"\\n\")\n",
    "\n",
    "    print(f\"{filename} 文件已生成，采样点数：{num_samples}\")\n",
    "\n",
    "def generate_square_wave_mem(filename, num_samples=1024, amplitude=32767):\n",
    "    # 生成一个周期的方波\n",
    "    t = np.linspace(0, 1, num_samples, endpoint=False)\n",
    "    square_wave = np.where(t < 0.5, amplitude, -amplitude)\n",
    "\n",
    "    # 量化到16位有符号整数范围\n",
    "    square_wave_int16 = np.int16(square_wave)\n",
    "\n",
    "    # 将数据转换为十六进制字符串，每行一个采样点\n",
    "    hex_data = [f\"{sample & 0xFFFF:04X}\" for sample in square_wave_int16]\n",
    "\n",
    "    # 保存到文件\n",
    "    with open(filename, \"w\") as f:\n",
    "        for hex_sample in hex_data:\n",
    "            f.write(hex_sample + \"\\n\")\n",
    "\n",
    "    print(f\"{filename} 文件已生成，采样点数：{num_samples}\")\n",
    "\n",
    "# 生成 1024 点 ROM\n",
    "generate_triangle_wave_mem(\"triangle_wave_1024.mem\", num_samples=1024, amplitude=AMPLITUDE)\n",
    "generate_square_wave_mem(\"square_wave_1024.mem\", num_samples=1024, amplitude=AMPLITUDE)"
   ]
  }
 ],
 "metadata": {
  "kernelspec": {
   "display_name": "AItest",
   "language": "python",
   "name": "python3"
  },
  "language_info": {
   "codemirror_mode": {
    "name": "ipython",
    "version": 3
   },
   "file_extension": ".py",
   "mimetype": "text/x-python",
   "name": "python",
   "nbconvert_exporter": "python",
   "pygments_lexer": "ipython3",
   "version": "3.8.19"
  }
 },
 "nbformat": 4,
 "nbformat_minor": 2
}
